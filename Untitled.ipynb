{
 "cells": [
  {
   "cell_type": "code",
   "execution_count": 43,
   "id": "d91da2d2-569b-4690-aa3a-30a3e97197ec",
   "metadata": {},
   "outputs": [
    {
     "data": {
      "text/plain": [
       "9"
      ]
     },
     "execution_count": 43,
     "metadata": {},
     "output_type": "execute_result"
    }
   ],
   "source": [
    "a = \"Hari Ram singh!!a!  singh singh singh chaddha\"\n",
    "a.upper()\n",
    "a.lower()\n",
    "a.swapcase()\n",
    "a.capitalize()\n",
    "a.rstrip(\"singh\")\n",
    "a.replace(\"Hari\",\"ganesh\")\n",
    "a.title()\n",
    "a.center(50)\n",
    "a.count(\"a\")\n",
    "a.find(\"s\")"
   ]
  },
  {
   "cell_type": "code",
   "execution_count": null,
   "id": "5d584177-c50f-48a1-88fe-0218a1d81042",
   "metadata": {},
   "outputs": [],
   "source": []
  }
 ],
 "metadata": {
  "kernelspec": {
   "display_name": "Python 3 (ipykernel)",
   "language": "python",
   "name": "python3"
  },
  "language_info": {
   "codemirror_mode": {
    "name": "ipython",
    "version": 3
   },
   "file_extension": ".py",
   "mimetype": "text/x-python",
   "name": "python",
   "nbconvert_exporter": "python",
   "pygments_lexer": "ipython3",
   "version": "3.12.0"
  }
 },
 "nbformat": 4,
 "nbformat_minor": 5
}
